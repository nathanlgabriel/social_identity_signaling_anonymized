{
 "cells": [
  {
   "cell_type": "code",
   "execution_count": 1,
   "id": "113c5e1d-8ed4-4041-b702-00cf25fa6e3c",
   "metadata": {},
   "outputs": [],
   "source": [
    "import math"
   ]
  },
  {
   "cell_type": "code",
   "execution_count": 12,
   "id": "f6a93539-4a8f-42e0-8e84-7b2ea904aab4",
   "metadata": {},
   "outputs": [],
   "source": [
    "# this notebook is for the equilibrium where Kishus give the Umma greeting among themselves\n",
    "bigX1 = ['empty1', 'blue'] # X1 is signal in dimension 1\n",
    "bigX2 = ['empty2', 'red'] # X2 is signal in dimension 2\n",
    "bigY = ['A', 'U', 'L', 'K'] # Y is Kishus action given interaction with any given type of agent\n",
    "beta = 0.1\n",
    "proportion_of_akkadians = 0.4 # p_a\n",
    "proportion_of_ummians = 0.2-(beta/2) # p_u\n",
    "proportion_of_lagashites = 0.2-(beta/2) # p_l\n",
    "proportion_of_kishus = 0.2+beta # p_k\n",
    "# Specifically, this notebook calculates the synergistic information between signals in the first dimension, X1, \n",
    "# the second dimension, X2, and the greeting that Kishus give in response to those singals, Y. The calculation of\n",
    "# synergistic information  is done using the formulation given by Varley and Kaminski (2022)'s \"Untangling \n",
    "# Synergistic Effects of Intersecting Social Identities with Partial Information Decomposition\", using Williams\n",
    "# and Beer's I_min definition of redundant information. "
   ]
  },
  {
   "cell_type": "code",
   "execution_count": 13,
   "id": "673ac873-a650-4bc1-906a-36cb3996ba50",
   "metadata": {},
   "outputs": [],
   "source": [
    "# first definining some basic probabilities of signals and actions in the relvant outcome (the mere conjunction)\n",
    "# then the functions named I... are calculations of mutual information\n",
    "\n",
    "def P_X1(x, p_a, p_u, p_l, p_k):\n",
    "    if x == 'empty1':\n",
    "        ans = p_a+p_l # i.e. the probability that at Lagashite or Akkadian is interacted with, which must be the case for no signal in dimension 1\n",
    "    elif x == 'blue':\n",
    "        ans = p_u+p_k\n",
    "    return ans\n",
    "\n",
    "def P_X1Y(x, y, p_a, p_u, p_l, p_k):\n",
    "    if x == 'empty1':\n",
    "        if y == 'A':\n",
    "            ans = p_a\n",
    "        elif y == 'L':\n",
    "            ans = p_l\n",
    "        else:\n",
    "            ans = 0\n",
    "    elif  x == 'blue':\n",
    "        if y == 'U':\n",
    "            ans = p_u+p_k # in the mere conjunction\n",
    "        else:\n",
    "            ans = 0\n",
    "    return ans\n",
    "\n",
    "def P_Y(y, p_a, p_u, p_l, p_k):\n",
    "    if y == 'A':\n",
    "        ans = p_a\n",
    "    elif y == 'U':\n",
    "        ans = p_u+p_k # assuming that in the mere conjunction case Kishus give the Umma greeting (calculations are symetric if Lagash instead)\n",
    "    elif y == 'L':\n",
    "        ans = p_l\n",
    "    else:\n",
    "        ans = 0 # in the merely conjunction equilibrium nobody gives the Kish greeting\n",
    "    return ans\n",
    "\n",
    "def P_X2(x, p_a, p_u, p_l, p_k):\n",
    "    if x == 'empty2':\n",
    "        ans = p_a+p_u # i.e. the probability that at Ummian or Akkadian is interacted with, which must be the case for no signal in dimension 2\n",
    "    elif x == 'red':\n",
    "        ans = p_l+p_k\n",
    "    return ans\n",
    "\n",
    "def P_X2Y(x, y, p_a, p_u, p_l, p_k):\n",
    "    if x == 'empty2':\n",
    "        if y == 'A':\n",
    "            ans = p_a\n",
    "        elif y == 'U':\n",
    "            ans = p_u\n",
    "        else:\n",
    "            ans = 0\n",
    "    elif  x == 'red':\n",
    "        if y == 'L':\n",
    "            ans = p_l\n",
    "        elif y == 'U': # note that Kishus are giving the Umma greeting among themselves\n",
    "            ans = p_k\n",
    "        else:\n",
    "            ans = 0\n",
    "    return ans\n",
    "\n",
    "def P_X1X2(x1, x2, p_a, p_u, p_l, p_k):\n",
    "    if x1 == 'empty1' and x2 == 'empty2':\n",
    "        ans = p_a\n",
    "    elif x1 == 'blue' and x2 == 'red':\n",
    "        ans = p_k\n",
    "    else:\n",
    "        ans = p_u # Ummians, Lagashites and Kishus are always the same proportion of the population on our parameters\n",
    "    return ans\n",
    "\n",
    "def P_X1X2Y(x1, x2, y, p_a, p_u, p_l, p_k):\n",
    "    if x1 == 'empty1' and x2 == 'empty2':\n",
    "        if y == 'A':\n",
    "            ans = p_a\n",
    "        else:\n",
    "            ans = 0 # Akkadians are only ones who signal empty empty and they always give the Akkadian greeting\n",
    "    elif x1 == 'blue' and x2 == 'empty2':\n",
    "        if y == 'U':\n",
    "            ans = p_u\n",
    "        else:\n",
    "            ans = 0\n",
    "    elif x1 == 'empty1' and x2 == 'red':\n",
    "        if y == 'L':\n",
    "            ans = p_l\n",
    "        else:\n",
    "            ans = 0\n",
    "    elif x1 == 'blue' and x2 == 'red':\n",
    "        if y == 'U': # note that Kishus are giving the Umma greeting among themselves\n",
    "            ans = p_k\n",
    "        else:\n",
    "            ans = 0\n",
    "    return ans\n",
    "\n",
    "def I_XY(P_X, P_bigY, P_XY, bigX, bigYp, p_a, p_u, p_l, p_k):\n",
    "    ans = 0\n",
    "    for x in bigX:\n",
    "        for y in bigYp:\n",
    "            if P_XY(x, y, p_a, p_u, p_l, p_k) != 0:\n",
    "                ans += P_XY(x, y, p_a, p_u, p_l, p_k)*math.log((P_XY(x, y, p_a, p_u, p_l, p_k))/(P_X(x, p_a, p_u, p_l, p_k)*P_Y(y, p_a, p_u, p_l, p_k)))\n",
    "    return ans\n",
    "\n",
    "def I_XXY(P_XX, P_bigY, P_XXY, bigXa, bigXb, bigYp, p_a, p_u, p_l, p_k):\n",
    "    ans = 0\n",
    "    for xa in bigXa:\n",
    "        for xb in bigXb:\n",
    "            for y in bigYp:\n",
    "                if P_XXY(xa, xb, y, p_a, p_u, p_l, p_k) != 0:\n",
    "                    ans +=  P_XXY(xa, xb, y, p_a, p_u, p_l, p_k)*math.log((P_XXY(xa, xb, y, p_a, p_u, p_l, p_k))/(P_XX(xa, xb, p_a, p_u, p_l, p_k)*P_Y(y, p_a, p_u, p_l, p_k)))\n",
    "    return ans\n",
    "\n",
    "def Redundant_X1X2Y(rI_XY, rP_Xa, rP_Xb, rP_Y, rP_XaY, rP_XbY, rbigXa, rbigXb, rbigY, p_a, p_u, p_l, p_k): # Williams and Beer's I_min defintion of redundant information\n",
    "    ans = 0\n",
    "    for y in rbigY:\n",
    "        IaXY = rI_XY(rP_Xa, rP_Y, rP_XaY, rbigXa, rbigY, p_a, p_u, p_l, p_k)\n",
    "        IbXY = rI_XY(rP_Xb, rP_Y, rP_XbY, rbigXb, rbigY, p_a, p_u, p_l, p_k)\n",
    "        ans += rP_Y(y, p_a, p_u, p_l, p_k)*min(IaXY, IbXY)\n",
    "    return ans"
   ]
  },
  {
   "cell_type": "code",
   "execution_count": 14,
   "id": "11a86bf0-9a9d-4844-92a2-ef0db3b0ce38",
   "metadata": {},
   "outputs": [
    {
     "name": "stdout",
     "output_type": "stream",
     "text": [
      "I(X1 ; Y) = 0.6881388137135884\n",
      " \n",
      "I(X2 ; Y) = 0.40170743798092257\n",
      " \n",
      "redundant information = 0.4017074379809226\n",
      " \n",
      "I(X1, X2 ; Y) = 1.0104127537805414\n",
      " \n",
      "synergistic information = 0.322273940066953\n",
      " \n"
     ]
    }
   ],
   "source": [
    "\n",
    "mutual_infoX1Y = I_XY(P_X1, P_Y, P_X1Y, bigX1, bigY, proportion_of_akkadians, proportion_of_ummians, proportion_of_lagashites, proportion_of_kishus)\n",
    "print(f'I(X1 ; Y) = {mutual_infoX1Y}')\n",
    "print(' ')\n",
    "\n",
    "mutual_infoX2Y = I_XY(P_X2, P_Y, P_X2Y, bigX2, bigY, proportion_of_akkadians, proportion_of_ummians, proportion_of_lagashites, proportion_of_kishus)\n",
    "print(f'I(X2 ; Y) = {mutual_infoX2Y}')\n",
    "print(' ')\n",
    "\n",
    "redundant_info = Redundant_X1X2Y(I_XY, P_X1, P_X2, P_Y, P_X1Y, P_X2Y, bigX1, bigX2, bigY, proportion_of_akkadians, proportion_of_ummians, proportion_of_lagashites, proportion_of_kishus)\n",
    "print(f'redundant information = {redundant_info}')\n",
    "print(' ')\n",
    "\n",
    "UnqX1YX2 = mutual_infoX1Y - redundant_info\n",
    "UnqX2YX1 = mutual_infoX2Y - redundant_info\n",
    "\n",
    "mutual_macro = I_XXY(P_X1X2, P_Y, P_X1X2Y, bigX1, bigX2, bigY, proportion_of_akkadians, proportion_of_ummians, proportion_of_lagashites, proportion_of_kishus)\n",
    "print(f'I(X1, X2 ; Y) = {mutual_macro}')\n",
    "print(' ')\n",
    "\n",
    "synergistic_information = mutual_macro - redundant_info - UnqX1YX2 - UnqX2YX1\n",
    "print(f'synergistic information = {synergistic_information}')\n",
    "print(' ')"
   ]
  },
  {
   "cell_type": "code",
   "execution_count": 15,
   "id": "f8a7c729-0799-429d-bddf-18d8cf13a836",
   "metadata": {},
   "outputs": [
    {
     "name": "stdout",
     "output_type": "stream",
     "text": [
      "coherency check = 1.0104127537805414\n"
     ]
    }
   ],
   "source": [
    "print(f'coherency check = {redundant_info+UnqX1YX2+UnqX2YX1+synergistic_information}')"
   ]
  },
  {
   "cell_type": "code",
   "execution_count": 16,
   "id": "12f70ea6-6159-4db7-960d-b2209c26cb34",
   "metadata": {},
   "outputs": [
    {
     "name": "stdout",
     "output_type": "stream",
     "text": [
      "proportion of total information that is redundant = 0.3975676637868055\n",
      " \n",
      "proportion of total information that is synergistic = 0.31895276347328244\n"
     ]
    }
   ],
   "source": [
    "print(f'proportion of total information that is redundant = {redundant_info/mutual_macro}')\n",
    "print(' ')\n",
    "print(f'proportion of total information that is synergistic = {synergistic_information/mutual_macro}')"
   ]
  },
  {
   "cell_type": "code",
   "execution_count": null,
   "id": "2acdac42-a027-40a8-a5c6-56a787a984cc",
   "metadata": {},
   "outputs": [],
   "source": []
  },
  {
   "cell_type": "code",
   "execution_count": null,
   "id": "f1d195c3-b4bc-47b5-ad2e-2990e3ef9e15",
   "metadata": {},
   "outputs": [],
   "source": []
  }
 ],
 "metadata": {
  "kernelspec": {
   "display_name": "Python 3 (ipykernel)",
   "language": "python",
   "name": "python3"
  },
  "language_info": {
   "codemirror_mode": {
    "name": "ipython",
    "version": 3
   },
   "file_extension": ".py",
   "mimetype": "text/x-python",
   "name": "python",
   "nbconvert_exporter": "python",
   "pygments_lexer": "ipython3",
   "version": "3.13.2"
  }
 },
 "nbformat": 4,
 "nbformat_minor": 5
}
