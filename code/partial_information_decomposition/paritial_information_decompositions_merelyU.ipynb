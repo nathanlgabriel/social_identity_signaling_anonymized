{
 "cells": [
  {
   "cell_type": "code",
   "execution_count": 1,
   "id": "113c5e1d-8ed4-4041-b702-00cf25fa6e3c",
   "metadata": {},
   "outputs": [],
   "source": [
    "import math"
   ]
  },
  {
   "cell_type": "code",
   "execution_count": 2,
   "id": "f6a93539-4a8f-42e0-8e84-7b2ea904aab4",
   "metadata": {},
   "outputs": [],
   "source": [
    "# this notebook is for the equilibrium where Kishus give the Umma greeting among themselves\n",
    "bigX1 = ['empty1', 'blue']\n",
    "bigX2 = ['empty2', 'red']\n",
    "bigY = ['A', 'U', 'L', 'K']\n",
    "# bigX1X2 = ['empty empty', 'blue empty', 'empty red', 'blue red']"
   ]
  },
  {
   "cell_type": "code",
   "execution_count": 3,
   "id": "673ac873-a650-4bc1-906a-36cb3996ba50",
   "metadata": {},
   "outputs": [],
   "source": [
    "def P_X1(x):\n",
    "    if x == 'empty1':\n",
    "        ans = 0.6 # i.e. the probability that at Lagashite or Akkadian is interacted with, which must be the case for no signal in dimension 1\n",
    "    elif x == 'blue':\n",
    "        ans = 0.4\n",
    "    return ans\n",
    "\n",
    "def P_X1Y(x, y):\n",
    "    if x == 'empty1':\n",
    "        if y == 'A':\n",
    "            ans = 0.4\n",
    "        elif y == 'L':\n",
    "            ans = 0.2\n",
    "        else:\n",
    "            ans = 0\n",
    "    elif  x == 'blue':\n",
    "        if y == 'U':\n",
    "            ans = 0.4\n",
    "        else:\n",
    "            ans = 0\n",
    "    return ans\n",
    "\n",
    "def P_Y(y):\n",
    "    if y == 'A':\n",
    "        ans = 0.4\n",
    "    elif y == 'U':\n",
    "        ans = 0.4\n",
    "    elif y == 'L':\n",
    "        ans = 0.2\n",
    "    else:\n",
    "        ans = 0 # in the merely conjunction equilibrium nobody gives the Kish greeting\n",
    "    return ans\n",
    "\n",
    "def P_X2(x):\n",
    "    if x == 'empty2':\n",
    "        ans = 0.6 # i.e. the probability that at Ummian or Akkadian is interacted with, which must be the case for no signal in dimension 2\n",
    "    elif x == 'red':\n",
    "        ans = 0.4\n",
    "    return ans\n",
    "\n",
    "def P_X2Y(x, y):\n",
    "    if x == 'empty2':\n",
    "        if y == 'A':\n",
    "            ans = 0.4\n",
    "        elif y == 'U':\n",
    "            ans = 0.2\n",
    "        else:\n",
    "            ans = 0\n",
    "    elif  x == 'red':\n",
    "        if y == 'L':\n",
    "            ans = 0.2\n",
    "        elif y == 'U': # note that Kishus are giving the Umma greeting among themselves\n",
    "            ans = 0.2\n",
    "        else:\n",
    "            ans = 0\n",
    "    return ans\n",
    "\n",
    "def P_X1X2(x1, x2):\n",
    "    if x1 == 'empty1' and x2 == 'empty2':\n",
    "        ans = 0.4\n",
    "    else:\n",
    "        ans = 0.2 # Ummians, Lagashites and Kishus are each 20% of the population and they each give a unique 1 of the 3 \n",
    "                  # remaining combinations of social signals\n",
    "    return ans\n",
    "\n",
    "def P_X1X2Y(x1, x2, y):\n",
    "    if x1 == 'empty1' and x2 == 'empty2':\n",
    "        if y == 'A':\n",
    "            ans = 0.4\n",
    "        else:\n",
    "            ans = 0 # Akkadians are only ones who signal empty empty and they always give the Akkadian greeting\n",
    "    elif x1 == 'blue' and x2 == 'empty2':\n",
    "        if y == 'U':\n",
    "            ans = 0.2\n",
    "        else:\n",
    "            ans = 0\n",
    "    elif x1 == 'empty1' and x2 == 'red':\n",
    "        if y == 'L':\n",
    "            ans = 0.2\n",
    "        else:\n",
    "            ans = 0\n",
    "    elif x1 == 'blue' and x2 == 'red':\n",
    "        if y == 'U': # note that Kishus are giving the Umma greeting among themselves\n",
    "            ans = 0.2\n",
    "        else:\n",
    "            ans = 0\n",
    "    return ans\n",
    "\n",
    "def I_XY(P_X, P_bigY, P_XY, bigX, bigYp):\n",
    "    ans = 0\n",
    "    for x in bigX:\n",
    "        for y in bigYp:\n",
    "            if P_XY(x, y) != 0:\n",
    "                ans += P_XY(x, y)*math.log((P_XY(x, y))/(P_X(x)*P_Y(y)))\n",
    "    return ans\n",
    "\n",
    "def I_XXY(P_XX, P_bigY, P_XXY, bigXa, bigXb, bigYp):\n",
    "    ans = 0\n",
    "    for xa in bigXa:\n",
    "        for xb in bigXb:\n",
    "            for y in bigYp:\n",
    "                if P_XXY(xa, xb, y) != 0:\n",
    "                    ans +=  P_XXY(xa, xb, y)*math.log((P_XXY(xa, xb, y))/(P_XX(xa, xb)*P_Y(y)))\n",
    "    return ans\n",
    "\n",
    "def Redundant_X1X2Y(rI_XY, rP_Xa, rP_Xb, rP_Y, rP_XaY, rP_XbY, rbigXa, rbigXb, rbigY): # Williams and Beer's I_min defintion of redundant information\n",
    "    ans = 0\n",
    "    for y in rbigY:\n",
    "        IaXY = rI_XY(rP_Xa, rP_Y, rP_XaY, rbigXa, rbigY)\n",
    "        IbXY = rI_XY(rP_Xb, rP_Y, rP_XbY, rbigXb, rbigY)\n",
    "        ans += rP_Y(y)*min(IaXY, IbXY)\n",
    "    return ans"
   ]
  },
  {
   "cell_type": "code",
   "execution_count": 4,
   "id": "11a86bf0-9a9d-4844-92a2-ef0db3b0ce38",
   "metadata": {},
   "outputs": [
    {
     "name": "stdout",
     "output_type": "stream",
     "text": [
      "I(X1 ; Y) = 0.6730116670092564\n",
      " \n",
      "I(X2 ; Y) = 0.39575279478527825\n",
      " \n",
      "redundant information = 0.39575279478527825\n",
      " \n",
      "I(X1, X2 ; Y) = 1.054920167986144\n",
      " \n",
      "synergistic information = 0.38190850097688755\n",
      " \n"
     ]
    }
   ],
   "source": [
    "\n",
    "mutual_infoX1Y = I_XY(P_X1, P_Y, P_X1Y, bigX1, bigY)\n",
    "print(f'I(X1 ; Y) = {mutual_infoX1Y}')\n",
    "print(' ')\n",
    "\n",
    "mutual_infoX2Y = I_XY(P_X2, P_Y, P_X2Y, bigX2, bigY)\n",
    "print(f'I(X2 ; Y) = {mutual_infoX2Y}')\n",
    "print(' ')\n",
    "\n",
    "redundant_info = Redundant_X1X2Y(I_XY, P_X1, P_X2, P_Y, P_X1Y, P_X2Y, bigX1, bigX2, bigY)\n",
    "print(f'redundant information = {redundant_info}')\n",
    "print(' ')\n",
    "\n",
    "UnqX1YX2 = mutual_infoX1Y - redundant_info\n",
    "UnqX2YX1 = mutual_infoX2Y - redundant_info\n",
    "\n",
    "mutual_macro = I_XXY(P_X1X2, P_Y, P_X1X2Y, bigX1, bigX2, bigY)\n",
    "print(f'I(X1, X2 ; Y) = {mutual_macro}')\n",
    "print(' ')\n",
    "\n",
    "synergistic_information = mutual_macro - redundant_info - UnqX1YX2 - UnqX2YX1\n",
    "print(f'synergistic information = {synergistic_information}')\n",
    "print(' ')"
   ]
  },
  {
   "cell_type": "code",
   "execution_count": 6,
   "id": "f8a7c729-0799-429d-bddf-18d8cf13a836",
   "metadata": {},
   "outputs": [
    {
     "name": "stdout",
     "output_type": "stream",
     "text": [
      "coherency check = 1.054920167986144\n"
     ]
    }
   ],
   "source": [
    "print(f'coherency check = {redundant_info+UnqX1YX2+UnqX2YX1+synergistic_information}')"
   ]
  },
  {
   "cell_type": "code",
   "execution_count": 7,
   "id": "12f70ea6-6159-4db7-960d-b2209c26cb34",
   "metadata": {},
   "outputs": [
    {
     "name": "stdout",
     "output_type": "stream",
     "text": [
      "proportion of total information that is redundant = 0.37514952012034747\n",
      " \n",
      "proportion of total information that is synergistic = 0.3620259736866684\n"
     ]
    }
   ],
   "source": [
    "print(f'proportion of total information that is redundant = {redundant_info/mutual_macro}')\n",
    "print(' ')\n",
    "print(f'proportion of total information that is synergistic = {synergistic_information/mutual_macro}')"
   ]
  },
  {
   "cell_type": "code",
   "execution_count": null,
   "id": "2acdac42-a027-40a8-a5c6-56a787a984cc",
   "metadata": {},
   "outputs": [],
   "source": []
  }
 ],
 "metadata": {
  "kernelspec": {
   "display_name": "Python 3 (ipykernel)",
   "language": "python",
   "name": "python3"
  },
  "language_info": {
   "codemirror_mode": {
    "name": "ipython",
    "version": 3
   },
   "file_extension": ".py",
   "mimetype": "text/x-python",
   "name": "python",
   "nbconvert_exporter": "python",
   "pygments_lexer": "ipython3",
   "version": "3.12.8"
  }
 },
 "nbformat": 4,
 "nbformat_minor": 5
}
